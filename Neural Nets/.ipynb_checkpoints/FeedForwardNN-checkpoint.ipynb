{
 "cells": [
  {
   "cell_type": "code",
   "execution_count": 1,
   "id": "2e5ede77",
   "metadata": {},
   "outputs": [
    {
     "name": "stderr",
     "output_type": "stream",
     "text": [
      "c:\\ProgramData\\Anaconda3\\envs\\pytorch\\lib\\site-packages\\tqdm\\auto.py:22: TqdmWarning: IProgress not found. Please update jupyter and ipywidgets. See https://ipywidgets.readthedocs.io/en/stable/user_install.html\n",
      "  from .autonotebook import tqdm as notebook_tqdm\n"
     ]
    },
    {
     "name": "stdout",
     "output_type": "stream",
     "text": [
      "<class 'torchvision.datasets.mnist.MNIST'>\n",
      "tensor([9, 7, 2, 4, 4, 0, 6, 4, 0, 2, 8, 8, 4, 8, 0, 1, 5, 0, 9, 9, 7, 9, 7, 8,\n",
      "        2, 3, 9, 7, 2, 6, 7, 6, 4, 9, 3, 2, 3, 8, 6, 9, 6, 4, 8, 4, 2, 9, 1, 3,\n",
      "        9, 7, 6, 5, 5, 6, 0, 2, 9, 6, 3, 6, 9, 8, 0, 1, 6, 0, 9, 9, 5, 8, 4, 4,\n",
      "        9, 0, 4, 8, 0, 4, 9, 5, 3, 9, 7, 5, 8, 9, 8, 2, 5, 8, 5, 9, 2, 3, 5, 6,\n",
      "        0, 4, 9, 6])\n",
      "torch.Size([100, 1, 28, 28]) torch.Size([100])\n",
      "torch.Size([1, 28, 28])\n",
      "torch.Size([1, 28, 28])\n",
      "torch.Size([1, 28, 28])\n",
      "torch.Size([1, 28, 28])\n",
      "torch.Size([1, 28, 28])\n",
      "torch.Size([1, 28, 28])\n",
      "epoch 1 / 2, step 100/600, loss = 0.2188\n",
      "epoch 1 / 2, step 200/600, loss = 0.2508\n",
      "epoch 1 / 2, step 300/600, loss = 0.2390\n",
      "epoch 1 / 2, step 400/600, loss = 0.1258\n",
      "epoch 1 / 2, step 500/600, loss = 0.2009\n",
      "epoch 1 / 2, step 600/600, loss = 0.0862\n",
      "epoch 2 / 2, step 100/600, loss = 0.0706\n",
      "epoch 2 / 2, step 200/600, loss = 0.1389\n",
      "epoch 2 / 2, step 300/600, loss = 0.1977\n",
      "epoch 2 / 2, step 400/600, loss = 0.1915\n",
      "epoch 2 / 2, step 500/600, loss = 0.0437\n",
      "epoch 2 / 2, step 600/600, loss = 0.1466\n"
     ]
    },
    {
     "name": "stderr",
     "output_type": "stream",
     "text": [
      "100%|██████████| 100/100 [00:04<00:00, 23.74it/s]\n"
     ]
    },
    {
     "name": "stdout",
     "output_type": "stream",
     "text": [
      "accuracy = 96.54\n"
     ]
    },
    {
     "data": {
      "image/png": "[encoded data removed]",
      "text/plain": [
       "<Figure size 432x288 with 6 Axes>"
      ]
     },
     "metadata": {
      "needs_background": "light"
     },
     "output_type": "display_data"
    }
   ],
   "source": [
    "import torch\n",
    "import torch.nn as nn\n",
    "import torchvision\n",
    "import torchvision.transforms as transforms\n",
    "import matplotlib.pyplot as plt\n",
    "import random\n",
    "from tqdm import tqdm\n",
    "\n",
    "#device configuration\n",
    "device = torch.device('cuda' if torch.cuda.is_available() else 'cpu')\n",
    "\n",
    "# hyper parameters\n",
    "input_size = 784 # we have a 2d 28x28 array which we flatten to a 1d array\\\n",
    "hidden_size = 100\n",
    "num_classes = 10\n",
    "num_epochs = 2\n",
    "batch_size = 100\n",
    "learning_rate = 0.01\n",
    "\n",
    "#MNIST\n",
    "train_dataset  = torchvision.datasets.MNIST(root='./data',train=True,\n",
    "                                            transform=transforms.ToTensor())\n",
    "test_dataset  = torchvision.datasets.MNIST(root='./data',train=False,\n",
    "                                            transform=transforms.ToTensor())\n",
    "\n",
    "train_loader = torch.utils.data.DataLoader(dataset=train_dataset, batch_size=batch_size,\n",
    "                                          shuffle=True)\n",
    "test_loader = torch.utils.data.DataLoader(dataset=test_dataset, batch_size=batch_size,\n",
    "                                          shuffle=False)\n",
    "\n",
    "print(type(train_dataset))\n",
    "examples = iter(train_loader)\n",
    "samples, labels = examples.next()\n",
    "print(labels)\n",
    "\n",
    "print(samples.shape, labels.shape)\n",
    "\n",
    "for i in range(6):\n",
    "    plt.subplot(2,3,i+1)\n",
    "    print(samples[i].shape)\n",
    "    plt.imshow(samples[i][0], cmap='gray')\n",
    "# plt.show()\n",
    "\n",
    "class NeuralNet(nn.Module):\n",
    "    def __init__(self, input_size, hidden_size, num_classes):\n",
    "        super(NeuralNet, self).__init__()\n",
    "        self.l1 = nn.Linear(input_size, hidden_size)\n",
    "        self.relu = nn.ReLU()\n",
    "        self.l2 = nn.Linear(hidden_size, num_classes)\n",
    "    \n",
    "    def forward(self, x):\n",
    "        out = self.l1(x)\n",
    "        out = self.relu(out)\n",
    "        out = self.l2(out)\n",
    "        \n",
    "        return out\n",
    "#         y_predicted = nn.CrossEntropyLoss(out)\n",
    "#         return y_predicted\n",
    "\n",
    "model = NeuralNet(input_size, hidden_size, num_classes).to(device)\n",
    "\n",
    "# loss and optimizer\n",
    "criterion = nn.CrossEntropyLoss()\n",
    "optimizer = torch.optim.Adam(model.parameters(), lr=learning_rate)\n",
    "\n",
    "# training_loop\n",
    "n_total_steps = len(train_loader)\n",
    "for epoch in range(num_epochs):\n",
    "    for i, (images, labels) in enumerate(train_loader):\n",
    "        # 100 1 28 28 - shape of \n",
    "        # input size = 784, num of batches = 100\n",
    "        images = images.reshape(-1, 28*28).to(device)\n",
    "        labels = labels.to(device)\n",
    "        \n",
    "        # forward\n",
    "        outputs =  model(images)\n",
    "        loss = criterion(outputs, labels)\n",
    "        \n",
    "        # backwards \n",
    "        optimizer.zero_grad()\n",
    "        loss.backward()\n",
    "        optimizer.step()\n",
    "        \n",
    "        if (i+1)%100 == 0:\n",
    "            print(f'epoch {epoch+1} / {num_epochs}, step {i+1}/{n_total_steps}, loss = {loss.item():.4f}')    \n",
    "        \n",
    "    # test\n",
    "with torch.no_grad():\n",
    "    n_correct = 0\n",
    "    n_samples = 0\n",
    "    for images, labels in tqdm(test_loader):\n",
    "        images = images.reshape(-1,28*28).to(device)\n",
    "        labels = labels.to(device)\n",
    "        outputs = model(images)\n",
    "    \n",
    "         # value, index\n",
    "        _, prediction = torch.max(outputs, 1)\n",
    "        n_samples += labels.shape[0]\n",
    "        n_correct += (prediction == labels).sum().item()\n",
    "    \n",
    "    acc = 100.0 * n_correct / n_samples\n",
    "    print(f'accuracy = {acc}')\n",
    "                "
   ]
  }
 ],
 "metadata": {
  "kernelspec": {
   "display_name": "Python 3 (ipykernel)",
   "language": "python",
   "name": "python3"
  },
  "language_info": {
   "codemirror_mode": {
    "name": "ipython",
    "version": 3
   },
   "file_extension": ".py",
   "mimetype": "text/x-python",
   "name": "python",
   "nbconvert_exporter": "python",
   "pygments_lexer": "ipython3",
   "version": "3.9.7"
  },
  "vscode": {
   "interpreter": {
    "hash": "240bc028caeb8b02ff80d8aedfc61caf7a0e4db2770780d40c5b717508bae340"
   }
  }
 },
 "nbformat": 4,
 "nbformat_minor": 5
}
