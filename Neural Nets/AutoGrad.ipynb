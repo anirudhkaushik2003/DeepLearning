{
 "cells": [
  {
   "cell_type": "code",
   "execution_count": 12,
   "id": "6617165d",
   "metadata": {},
   "outputs": [
    {
     "name": "stdout",
     "output_type": "stream",
     "text": [
      "tensor([1.5800, 1.4668, 0.2458], grad_fn=<AddBackward0>)\n",
      "tensor([2.1066, 1.9557, 0.3277])\n"
     ]
    }
   ],
   "source": [
    "import torch\n",
    "x = torch.randn(3,requires_grad=True)\n",
    "y = x+2\n",
    "print(y)\n",
    "z = y*y*2\n",
    "z = z.mean()\n",
    "z.backward()\n",
    "print(x.grad)\n"
   ]
  }
 ],
 "metadata": {
  "kernelspec": {
   "display_name": "Python 3 (ipykernel)",
   "language": "python",
   "name": "python3"
  },
  "language_info": {
   "codemirror_mode": {
    "name": "ipython",
    "version": 3
   },
   "file_extension": ".py",
   "mimetype": "text/x-python",
   "name": "python",
   "nbconvert_exporter": "python",
   "pygments_lexer": "ipython3",
   "version": "3.9.7"
  }
 },
 "nbformat": 4,
 "nbformat_minor": 5
}
