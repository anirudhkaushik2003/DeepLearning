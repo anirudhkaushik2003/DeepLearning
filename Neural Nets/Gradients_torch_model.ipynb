{
 "cells": [
  {
   "cell_type": "code",
   "execution_count": 16,
   "id": "52f5ffef",
   "metadata": {},
   "outputs": [
    {
     "name": "stdout",
     "output_type": "stream",
     "text": [
      "4 1\n",
      "Prediction before training f(5) = 0.789\n",
      "epoch 1: w = 0.633. loss = 29.03845215\n",
      "epoch 11: w = 1.864. loss = 0.76559025\n",
      "epoch 21: w = 2.060. loss = 0.03327096\n",
      "epoch 31: w = 2.089. loss = 0.01354045\n",
      "epoch 41: w = 2.091. loss = 0.01229195\n",
      "epoch 51: w = 2.089. loss = 0.01156459\n",
      "epoch 61: w = 2.087. loss = 0.01089118\n",
      "epoch 71: w = 2.084. loss = 0.01025723\n",
      "epoch 81: w = 2.082. loss = 0.00966022\n",
      "epoch 91: w = 2.079. loss = 0.00909791\n",
      "Prediction after training: f(5) = 10.159\n"
     ]
    }
   ],
   "source": [
    "#1) Design model (input, output size, forward pass)\n",
    "#2) Construct loss and optimizer\n",
    "#3) Training loop\n",
    "#    - forward pass: compute prediction\n",
    "#    - backward pass: gradients\n",
    "#    - update weights\n",
    "import torch\n",
    "import torch.nn as nn\n",
    "\n",
    "# f = w * x\n",
    "# f = 2 * x\n",
    "\n",
    "X = torch.tensor([[1],[2],[3],[4]], dtype=torch.float32)\n",
    "Y = torch.tensor([[2],[4],[6],[8]], dtype=torch.float32)\n",
    "\n",
    "X_test = torch.tensor([5], dtype=torch.float32)\n",
    "n_samples, n_features = X.shape\n",
    "print(n_samples,n_features)\n",
    "\n",
    "input_size = n_features\n",
    "output_size = n_features\n",
    "\n",
    "#model = nn.Linear(input_size,output_size)\n",
    "\n",
    "class LinearRegression(nn.Module):\n",
    "    \n",
    "    def __init__(self,input_dim, output_dim):\n",
    "        super(LinearRegression, self).__init__()\n",
    "        #define layers\n",
    "        self.lin = nn.Linear(input_dim, output_dim)\n",
    "        \n",
    "    def forward(self,x):\n",
    "        return self.lin(x)\n",
    "\n",
    "model = LinearRegression(input_size,output_size)\n",
    "    \n",
    "print(f'Prediction before training f(5) = {model(X_test).item():.3f}')\n",
    "\n",
    "#Training \n",
    "learning_rate = 0.01\n",
    "n_iters = 100\n",
    "loss = nn.MSELoss()\n",
    "optimizer = torch.optim.SGD(model.parameters(),lr=learning_rate)\n",
    "\n",
    "for epoch in range(n_iters):\n",
    "    #prediction = forward pass\n",
    "    y_pred = model(X)\n",
    "    \n",
    "    #loss\n",
    "    l = loss(Y,y_pred)\n",
    "    \n",
    "    #gradients = backward pass\n",
    "    l.backward()  #dl/dw\n",
    "    \n",
    "    #update the weights\n",
    "    optimizer.step()\n",
    "    \n",
    "    # zero gradients\n",
    "    optimizer.zero_grad()\n",
    "    \n",
    "    if epoch%10 == 0: \n",
    "        [w,b] = model.parameters()\n",
    "        print(f'epoch {epoch+1}: w = {w[0][0].item():.3f}. loss = {l:.8f}')\n",
    "\n",
    "print(f'Prediction after training: f(5) = {model(X_test).item():.3f}')"
   ]
  }
 ],
 "metadata": {
  "kernelspec": {
   "display_name": "Python 3 (ipykernel)",
   "language": "python",
   "name": "python3"
  },
  "language_info": {
   "codemirror_mode": {
    "name": "ipython",
    "version": 3
   },
   "file_extension": ".py",
   "mimetype": "text/x-python",
   "name": "python",
   "nbconvert_exporter": "python",
   "pygments_lexer": "ipython3",
   "version": "3.9.7"
  }
 },
 "nbformat": 4,
 "nbformat_minor": 5
}
